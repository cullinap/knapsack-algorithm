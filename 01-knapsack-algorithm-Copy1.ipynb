{
 "cells": [
  {
   "cell_type": "markdown",
   "metadata": {},
   "source": [
    "# 0-1 knapsack algorithm\n",
    "\n",
    "The knapsack problem seeks to optimize a paramenter given a constraint. In this case, given a backpack with a certain capacity what is the optimal value while maximizing weight and volume (or two other parameters).\n",
    "\n",
    "To get a better idea of what we are looking at, see the table below:"
   ]
  },
  {
   "cell_type": "code",
   "execution_count": 4,
   "metadata": {},
   "outputs": [],
   "source": [
    "import pandas as pd"
   ]
  },
  {
   "cell_type": "code",
   "execution_count": 5,
   "metadata": {},
   "outputs": [
    {
     "data": {
      "text/html": [
       "<div>\n",
       "<style scoped>\n",
       "    .dataframe tbody tr th:only-of-type {\n",
       "        vertical-align: middle;\n",
       "    }\n",
       "\n",
       "    .dataframe tbody tr th {\n",
       "        vertical-align: top;\n",
       "    }\n",
       "\n",
       "    .dataframe thead th {\n",
       "        text-align: right;\n",
       "    }\n",
       "</style>\n",
       "<table border=\"1\" class=\"dataframe\">\n",
       "  <thead>\n",
       "    <tr style=\"text-align: right;\">\n",
       "      <th></th>\n",
       "      <th>value</th>\n",
       "      <th>weight</th>\n",
       "      <th>volume</th>\n",
       "    </tr>\n",
       "  </thead>\n",
       "  <tbody>\n",
       "    <tr>\n",
       "      <th>0</th>\n",
       "      <td>2</td>\n",
       "      <td>1</td>\n",
       "      <td>2</td>\n",
       "    </tr>\n",
       "    <tr>\n",
       "      <th>1</th>\n",
       "      <td>3</td>\n",
       "      <td>2</td>\n",
       "      <td>1</td>\n",
       "    </tr>\n",
       "    <tr>\n",
       "      <th>2</th>\n",
       "      <td>3</td>\n",
       "      <td>1</td>\n",
       "      <td>3</td>\n",
       "    </tr>\n",
       "    <tr>\n",
       "      <th>3</th>\n",
       "      <td>4</td>\n",
       "      <td>3</td>\n",
       "      <td>2</td>\n",
       "    </tr>\n",
       "    <tr>\n",
       "      <th>4</th>\n",
       "      <td>4</td>\n",
       "      <td>2</td>\n",
       "      <td>2</td>\n",
       "    </tr>\n",
       "    <tr>\n",
       "      <th>5</th>\n",
       "      <td>5</td>\n",
       "      <td>3</td>\n",
       "      <td>3</td>\n",
       "    </tr>\n",
       "  </tbody>\n",
       "</table>\n",
       "</div>"
      ],
      "text/plain": [
       "   value  weight  volume\n",
       "0      2       1       2\n",
       "1      3       2       1\n",
       "2      3       1       3\n",
       "3      4       3       2\n",
       "4      4       2       2\n",
       "5      5       3       3"
      ]
     },
     "execution_count": 5,
     "metadata": {},
     "output_type": "execute_result"
    }
   ],
   "source": [
    "d = {'value':[2,3,3,4,4,5],'weight':[1,2,1,3,2,3],'volume':[2,1,3,2,2,3]}\n",
    "df = pd.DataFrame(data=d); df"
   ]
  },
  {
   "cell_type": "markdown",
   "metadata": {},
   "source": [
    "In this table each row represents an item, and each item has a value, weight, and volume. Our goal is to find the optimal combination of items that give us the highest value and remain under the weight and volume constraint.\n",
    "\n",
    "One way to solve this problem is to imagine all the possible combinations of items that exist and select for maximum value. You can organize this information into 'states' and each state has certain constraints and values.\n",
    "\n",
    "In this problem set we set the constrainst at weight=6, and volume=4. Since there are 7 possible combinations of weight (0,1...6) and 5 of volume (0,1...4) we have a total of 7x5=35 states. This table will help you imagine how this lays out:"
   ]
  },
  {
   "cell_type": "code",
   "execution_count": 13,
   "metadata": {},
   "outputs": [
    {
     "name": "stdout",
     "output_type": "stream",
     "text": [
      "iteration 1\n",
      "\n",
      "value     2\n",
      "weight    1\n",
      "volume    2\n",
      "Name: 0, dtype: int64\n",
      "\n"
     ]
    },
    {
     "data": {
      "text/html": [
       "<div>\n",
       "<style scoped>\n",
       "    .dataframe tbody tr th:only-of-type {\n",
       "        vertical-align: middle;\n",
       "    }\n",
       "\n",
       "    .dataframe tbody tr th {\n",
       "        vertical-align: top;\n",
       "    }\n",
       "\n",
       "    .dataframe thead th {\n",
       "        text-align: right;\n",
       "    }\n",
       "</style>\n",
       "<table border=\"1\" class=\"dataframe\">\n",
       "  <thead>\n",
       "    <tr style=\"text-align: right;\">\n",
       "      <th></th>\n",
       "      <th>state 1</th>\n",
       "      <th>state 2</th>\n",
       "      <th>x_0</th>\n",
       "      <th>x_1</th>\n",
       "      <th>max</th>\n",
       "    </tr>\n",
       "  </thead>\n",
       "  <tbody>\n",
       "    <tr>\n",
       "      <th>0</th>\n",
       "      <td>0</td>\n",
       "      <td>0</td>\n",
       "      <td>0</td>\n",
       "      <td>0</td>\n",
       "      <td>0</td>\n",
       "    </tr>\n",
       "    <tr>\n",
       "      <th>1</th>\n",
       "      <td>0</td>\n",
       "      <td>1</td>\n",
       "      <td>-9999</td>\n",
       "      <td>0</td>\n",
       "      <td>0</td>\n",
       "    </tr>\n",
       "    <tr>\n",
       "      <th>2</th>\n",
       "      <td>0</td>\n",
       "      <td>2</td>\n",
       "      <td>-9999</td>\n",
       "      <td>0</td>\n",
       "      <td>0</td>\n",
       "    </tr>\n",
       "    <tr>\n",
       "      <th>3</th>\n",
       "      <td>...</td>\n",
       "      <td>...</td>\n",
       "      <td>...</td>\n",
       "      <td>...</td>\n",
       "      <td>...</td>\n",
       "    </tr>\n",
       "    <tr>\n",
       "      <th>4</th>\n",
       "      <td>6</td>\n",
       "      <td>4</td>\n",
       "      <td>0</td>\n",
       "      <td>2</td>\n",
       "      <td>2</td>\n",
       "    </tr>\n",
       "  </tbody>\n",
       "</table>\n",
       "</div>"
      ],
      "text/plain": [
       "  state 1 state 2    x_0  x_1  max\n",
       "0       0       0      0    0    0\n",
       "1       0       1  -9999    0    0\n",
       "2       0       2  -9999    0    0\n",
       "3     ...     ...    ...  ...  ...\n",
       "4       6       4      0    2    2"
      ]
     },
     "execution_count": 13,
     "metadata": {},
     "output_type": "execute_result"
    }
   ],
   "source": [
    "state_table = {'state 1':[0,0,0,'...',6],'state 2':[0,1,2,'...',4],'x_0':[0,-9999,-9999,'...',0],\\\n",
    "               'x_1':[0,0,0,'...',2],'max':[0,0,0,'...',2]}\n",
    "\n",
    "print('iteration 1')\n",
    "print('')\n",
    "print(df.loc[0])\n",
    "print('')\n",
    "state_table_df = pd.DataFrame(data=state_table); state_table_df"
   ]
  },
  {
   "cell_type": "markdown",
   "metadata": {},
   "source": [
    "In the table above we have taken the first item's weight, value, and volume, and run all possible states. State_1 and state_2 represent the maximum value possible for a given state with just the first item. For example if you had a bag with a weight capacity of 6 and volume capacity of 4 the maximum value you could achieve is 2. Or quite simply you can fit the item in the bag easily with some capacity left over, but since you have only one item you can only achieve a value of 2.\n",
    "\n",
    "In the next iteration you consider the max value given the inclusion of item 1 and item 2. In this case the max value you can achieve is 5, and the weights and volumes will add up to 3 each (1+2, & 2+1). You continue you this until you get to the last item. In the final iteration the max capacity of (6,4) is calculated by taking item 6 (value 5, weight 3, and volume 3) and looking backwards at the previous items until the constraint is satisfied. In this case item 5 is skipped because volume would be exceeded, but if we go all the way back to item 2 we see that we get a total value of 4 and weight of 5 and 4, which meets our criteria. This is the optimal solution for the problem set. You could also come to this state by adding together items 3 & 4, and you would get the same value. \n",
    "\n",
    "Doing all this work manually is tedious but we can solve this using a recursive algorithm in python..."
   ]
  },
  {
   "cell_type": "code",
   "execution_count": 22,
   "metadata": {},
   "outputs": [],
   "source": [
    "#load all the possible values into lists\n",
    "\n",
    "values     = [2,3,3,4,4,5]   #val\n",
    "state_1    = [0,1,2,3,4,5,6] #s1\n",
    "state_2    = [0,1,2,3,4]     #s2\n",
    "weights    = [1,2,1,3,2,3]   #w\n",
    "volumes    = [2,1,3,2,2,3]   #vol\n",
    "max_weight = 6               #weights\n",
    "max_volume = 4               #volumes"
   ]
  },
  {
   "cell_type": "code",
   "execution_count": 27,
   "metadata": {},
   "outputs": [],
   "source": [
    "def knap_sack(a,b,i):\n",
    "    if i == 0:\n",
    "        result = max(0,(values[i] if state_1[a]<=max_weight and state_2[b]<=max_volume \\\n",
    "            and state_1[a]>=weights[i] and state_2[b]>=volumes[i] else -9999.99))\n",
    "        \n",
    "    elif state_1[a] < weights[i] or state_2[b] < volumes[i]:\n",
    "        result = knap_sack(state_1[a],state_2[b],i-1)\n",
    "    else:\n",
    "        tmp3 = knap_sack(state_1[a],state_2[b],i-1)\n",
    "        tmp4 = values[i] + knap_sack(state_1[a]-weights[i],state_2[b]-volumes[i],i-1)\n",
    "        result = max(tmp3, tmp4)\n",
    "    return result"
   ]
  },
  {
   "cell_type": "code",
   "execution_count": 28,
   "metadata": {},
   "outputs": [
    {
     "data": {
      "text/plain": [
       "8"
      ]
     },
     "execution_count": 28,
     "metadata": {},
     "output_type": "execute_result"
    }
   ],
   "source": [
    "knap_sack(max_weight,max_volume,5)"
   ]
  },
  {
   "cell_type": "markdown",
   "metadata": {},
   "source": [
    "The function above returns the max value achievable given the constraints and number of iterations. \n",
    "\n",
    "The function starts by returning the result for the base case using the first item. The first line of code returns a value if the weight and volume of the first item is less than or equal to the max limits and if the item's constraints are greater than or equal to the states constraints. Think back to the spreadsheet where each state had a certain capacity - this line of code executes this. \n",
    "\n",
    "Next if the iteration is greater than 1 and state capacity is less than the constraints we will recurse to a previous state's values, and the function will evaluate the inputs again. \n",
    "\n",
    "If the state's capacities are greater than or equal we go to the next condition where we pull in values from the previous state with the same values (tmp3) and we see if the value of this current state + the value from the previous state (tmp4). We throw these both into a max function and see which one is bigger. \n",
    "\n",
    "The function continues until it finds the max value within the constraints. \n",
    "\n",
    "Just to illustrate what is happening let's take out final state knap_sack(6,4,5): \n",
    "\n",
    "Since it is the 6th iteration and the capacities (6,4) are greater than weight/volume for the final item (3,3) we go down to the final line where we get values for tmp3 which is recursively calling knap_sack(6,4,4) which returns the value 8 (item 5 value = 4, weight,volume (2,2) + item 4 value = 4 (3,2)). \n",
    "\n",
    "tmp4 = item 6 value = 5 (3,3) + item 2 value = 3 (2,1). \n",
    "\n",
    "Either solution is optimal so the function returns 8."
   ]
  },
  {
   "cell_type": "code",
   "execution_count": 32,
   "metadata": {},
   "outputs": [
    {
     "data": {
      "text/plain": [
       "8"
      ]
     },
     "execution_count": 32,
     "metadata": {},
     "output_type": "execute_result"
    }
   ],
   "source": [
    "#item 5 & 4\n",
    "knap_sack(state_1[6],state_2[4],4)"
   ]
  },
  {
   "cell_type": "code",
   "execution_count": 31,
   "metadata": {},
   "outputs": [
    {
     "data": {
      "text/plain": [
       "8"
      ]
     },
     "execution_count": 31,
     "metadata": {},
     "output_type": "execute_result"
    }
   ],
   "source": [
    "#item 6 & 2\n",
    "values[5] + knap_sack(state_1[6]-weights[5],state_2[4]-volumes[5],4)"
   ]
  },
  {
   "cell_type": "code",
   "execution_count": null,
   "metadata": {},
   "outputs": [],
   "source": []
  }
 ],
 "metadata": {
  "kernelspec": {
   "display_name": "Python (fast_ai)",
   "language": "python",
   "name": "fast_ai"
  },
  "language_info": {
   "codemirror_mode": {
    "name": "ipython",
    "version": 3
   },
   "file_extension": ".py",
   "mimetype": "text/x-python",
   "name": "python",
   "nbconvert_exporter": "python",
   "pygments_lexer": "ipython3",
   "version": "3.7.2"
  }
 },
 "nbformat": 4,
 "nbformat_minor": 2
}
