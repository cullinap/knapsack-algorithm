{
 "cells": [
  {
   "cell_type": "code",
   "execution_count": 84,
   "metadata": {},
   "outputs": [
    {
     "data": {
      "text/plain": [
       "'val'"
      ]
     },
     "execution_count": 84,
     "metadata": {},
     "output_type": "execute_result"
    }
   ],
   "source": [
    "[item for item in d][0]"
   ]
  },
  {
   "cell_type": "code",
   "execution_count": 85,
   "metadata": {},
   "outputs": [
    {
     "data": {
      "text/plain": [
       "[1, 2, 1, 3, 2, 3]"
      ]
     },
     "execution_count": 85,
     "metadata": {},
     "output_type": "execute_result"
    }
   ],
   "source": [
    "[items for items in d.values()][1]"
   ]
  },
  {
   "cell_type": "code",
   "execution_count": 86,
   "metadata": {},
   "outputs": [],
   "source": [
    "items_iter = [items for items in d.values()]"
   ]
  },
  {
   "cell_type": "code",
   "execution_count": 87,
   "metadata": {},
   "outputs": [
    {
     "data": {
      "text/plain": [
       "[2, 1, 3, 2, 2, 3]"
      ]
     },
     "execution_count": 87,
     "metadata": {},
     "output_type": "execute_result"
    }
   ],
   "source": [
    "items_iter[2]"
   ]
  },
  {
   "cell_type": "code",
   "execution_count": 288,
   "metadata": {},
   "outputs": [],
   "source": [
    "def knap_sack(a,b,i):\n",
    "    if i == 0:\n",
    "        result = max(0,(values[i] if state_1[a]<=max_weight and state_2[b]<=max_volume \\\n",
    "            and state_1[a]>=weights[i] and state_2[b]>=volumes[i] else -9999.99))\n",
    "        \n",
    "    elif state_1[a] < weights[i] or state_2[b] < volumes[i]:\n",
    "        result = knap_sack(state_1[a],state_2[b],i-1)\n",
    "    else:\n",
    "        tmp3 = knap_sack(state_1[a],state_2[b],i-1)\n",
    "        tmp4 = values[i] + knap_sack(state_1[a]-weights[i],state_2[b]-volumes[i],i-1)\n",
    "        result = max(tmp3, tmp4)\n",
    "    return result"
   ]
  },
  {
   "cell_type": "code",
   "execution_count": 416,
   "metadata": {},
   "outputs": [],
   "source": [
    "d = {'plr':['a','b','c','d','e','f'],'val':[2,3,3,4,4,5],'wgts':[1,2,1,3,2,3],'vol':[2,1,3,2,2,3]}"
   ]
  },
  {
   "cell_type": "code",
   "execution_count": 326,
   "metadata": {},
   "outputs": [],
   "source": [
    "values     = items_iter[0]   \n",
    "state_1    = [i for i in range(max_weight+1)] \n",
    "state_2    = [i for i in range(max_volume+1)]     \n",
    "weights    = items_iter[1]   \n",
    "volumes    = items_iter[2]   \n",
    "max_weight = 6              \n",
    "max_volume = 4               "
   ]
  },
  {
   "cell_type": "code",
   "execution_count": 327,
   "metadata": {},
   "outputs": [
    {
     "data": {
      "text/plain": [
       "8"
      ]
     },
     "execution_count": 327,
     "metadata": {},
     "output_type": "execute_result"
    }
   ],
   "source": [
    "knap_sack(max_weight,max_volume,len(values)-1)"
   ]
  },
  {
   "cell_type": "code",
   "execution_count": 334,
   "metadata": {},
   "outputs": [
    {
     "name": "stdout",
     "output_type": "stream",
     "text": [
      "0\n",
      "1\n",
      "2\n",
      "3\n",
      "4\n",
      "5\n"
     ]
    }
   ],
   "source": [
    "knapsack = {}\n",
    "    \n",
    "for i in range(len(values)):\n",
    "    print(i)\n",
    "    empty_list = []\n",
    "    for weight in state_1:\n",
    "        q = [knap_sack(weight,volume,i) for volume in state_2]\n",
    "        empty_list.append(q)\n",
    "    knapsack[i] = empty_list"
   ]
  },
  {
   "cell_type": "code",
   "execution_count": 335,
   "metadata": {},
   "outputs": [
    {
     "data": {
      "text/plain": [
       "{0: [[0, 0, 0, 0, 0],\n",
       "  [0, 0, 2, 2, 2],\n",
       "  [0, 0, 2, 2, 2],\n",
       "  [0, 0, 2, 2, 2],\n",
       "  [0, 0, 2, 2, 2],\n",
       "  [0, 0, 2, 2, 2],\n",
       "  [0, 0, 2, 2, 2]],\n",
       " 1: [[0, 0, 0, 0, 0],\n",
       "  [0, 0, 2, 2, 2],\n",
       "  [0, 3, 3, 3, 3],\n",
       "  [0, 3, 3, 5, 5],\n",
       "  [0, 3, 3, 5, 5],\n",
       "  [0, 3, 3, 5, 5],\n",
       "  [0, 3, 3, 5, 5]],\n",
       " 2: [[0, 0, 0, 0, 0],\n",
       "  [0, 0, 2, 3, 3],\n",
       "  [0, 3, 3, 3, 3],\n",
       "  [0, 3, 3, 5, 6],\n",
       "  [0, 3, 3, 5, 6],\n",
       "  [0, 3, 3, 5, 6],\n",
       "  [0, 3, 3, 5, 6]],\n",
       " 3: [[0, 0, 0, 0, 0],\n",
       "  [0, 0, 2, 3, 3],\n",
       "  [0, 3, 3, 3, 3],\n",
       "  [0, 3, 4, 5, 6],\n",
       "  [0, 3, 4, 5, 6],\n",
       "  [0, 3, 4, 7, 7],\n",
       "  [0, 3, 4, 7, 7]],\n",
       " 4: [[0, 0, 0, 0, 0],\n",
       "  [0, 0, 2, 3, 3],\n",
       "  [0, 3, 4, 4, 4],\n",
       "  [0, 3, 4, 5, 6],\n",
       "  [0, 3, 4, 7, 7],\n",
       "  [0, 3, 4, 7, 8],\n",
       "  [0, 3, 4, 7, 8]],\n",
       " 5: [[0, 0, 0, 0, 0],\n",
       "  [0, 0, 2, 3, 3],\n",
       "  [0, 3, 4, 4, 4],\n",
       "  [0, 3, 4, 5, 6],\n",
       "  [0, 3, 4, 7, 7],\n",
       "  [0, 3, 4, 7, 8],\n",
       "  [0, 3, 4, 7, 8]]}"
      ]
     },
     "execution_count": 335,
     "metadata": {},
     "output_type": "execute_result"
    }
   ],
   "source": [
    "knapsack"
   ]
  },
  {
   "cell_type": "code",
   "execution_count": 353,
   "metadata": {},
   "outputs": [
    {
     "data": {
      "text/plain": [
       "3"
      ]
     },
     "execution_count": 353,
     "metadata": {},
     "output_type": "execute_result"
    }
   ],
   "source": [
    "[items for items in knapsack.values()][5][6][4] #last item "
   ]
  },
  {
   "cell_type": "code",
   "execution_count": 354,
   "metadata": {},
   "outputs": [
    {
     "data": {
      "text/plain": [
       "3"
      ]
     },
     "execution_count": 354,
     "metadata": {},
     "output_type": "execute_result"
    }
   ],
   "source": [
    "[items for items in knapsack.values()][5][6][4] - values[5]"
   ]
  },
  {
   "cell_type": "code",
   "execution_count": 352,
   "metadata": {},
   "outputs": [
    {
     "data": {
      "text/plain": [
       "3"
      ]
     },
     "execution_count": 352,
     "metadata": {},
     "output_type": "execute_result"
    }
   ],
   "source": [
    "[items for items in knapsack.values()][1][3][2] #secon item"
   ]
  },
  {
   "cell_type": "code",
   "execution_count": 355,
   "metadata": {},
   "outputs": [
    {
     "data": {
      "text/plain": [
       "[[0, 0, 0, 0, 0],\n",
       " [0, 0, 2, 3, 3],\n",
       " [0, 3, 4, 4, 4],\n",
       " [0, 3, 4, 5, 6],\n",
       " [0, 3, 4, 7, 7],\n",
       " [0, 3, 4, 7, 8],\n",
       " [0, 3, 4, 7, 8]]"
      ]
     },
     "execution_count": 355,
     "metadata": {},
     "output_type": "execute_result"
    }
   ],
   "source": [
    "max([items for items in knapsack.values()])"
   ]
  },
  {
   "cell_type": "code",
   "execution_count": 357,
   "metadata": {},
   "outputs": [
    {
     "data": {
      "text/plain": [
       "4"
      ]
     },
     "execution_count": 357,
     "metadata": {},
     "output_type": "execute_result"
    }
   ],
   "source": [
    "import operator\n",
    "max(knapsack, key=knapsack.get)"
   ]
  },
  {
   "cell_type": "code",
   "execution_count": 371,
   "metadata": {},
   "outputs": [
    {
     "data": {
      "text/plain": [
       "[[0, 0, 0, 0, 0],\n",
       " [0, 0, 2, 3, 3],\n",
       " [0, 3, 4, 4, 4],\n",
       " [0, 3, 4, 5, 6],\n",
       " [0, 3, 4, 7, 7],\n",
       " [0, 3, 4, 7, 8],\n",
       " [0, 3, 4, 7, 8]]"
      ]
     },
     "execution_count": 371,
     "metadata": {},
     "output_type": "execute_result"
    }
   ],
   "source": [
    "knapsack[max(knapsack, key=knapsack.get)]"
   ]
  },
  {
   "cell_type": "code",
   "execution_count": 393,
   "metadata": {},
   "outputs": [
    {
     "data": {
      "text/plain": [
       "(5, 5)"
      ]
     },
     "execution_count": 393,
     "metadata": {},
     "output_type": "execute_result"
    }
   ],
   "source": [
    "temp = knapsack[max(knapsack, key=knapsack.get)]\n",
    "#temp.index(min(temp))\n",
    "index, value = max(enumerate(knapsack), key=operator.itemgetter(1)); index, value"
   ]
  },
  {
   "cell_type": "code",
   "execution_count": 402,
   "metadata": {},
   "outputs": [
    {
     "data": {
      "text/plain": [
       "[0, 3, 4, 7, 8]"
      ]
     },
     "execution_count": 402,
     "metadata": {},
     "output_type": "execute_result"
    }
   ],
   "source": [
    "temp[5]"
   ]
  },
  {
   "cell_type": "code",
   "execution_count": 404,
   "metadata": {},
   "outputs": [
    {
     "data": {
      "text/plain": [
       "4"
      ]
     },
     "execution_count": 404,
     "metadata": {},
     "output_type": "execute_result"
    }
   ],
   "source": [
    "index, value = max(enumerate(temp[5]), key=operator.itemgetter(1)); index"
   ]
  },
  {
   "cell_type": "code",
   "execution_count": 417,
   "metadata": {},
   "outputs": [
    {
     "data": {
      "text/plain": [
       "'e'"
      ]
     },
     "execution_count": 417,
     "metadata": {},
     "output_type": "execute_result"
    }
   ],
   "source": [
    "[items for items in d.values()][0][4]"
   ]
  },
  {
   "cell_type": "code",
   "execution_count": 418,
   "metadata": {},
   "outputs": [
    {
     "data": {
      "text/plain": [
       "2"
      ]
     },
     "execution_count": 418,
     "metadata": {},
     "output_type": "execute_result"
    }
   ],
   "source": [
    "[items for items in d.values()][2][4]"
   ]
  },
  {
   "cell_type": "code",
   "execution_count": 419,
   "metadata": {},
   "outputs": [
    {
     "data": {
      "text/plain": [
       "2"
      ]
     },
     "execution_count": 419,
     "metadata": {},
     "output_type": "execute_result"
    }
   ],
   "source": [
    "[items for items in d.values()][3][4]"
   ]
  },
  {
   "cell_type": "code",
   "execution_count": 427,
   "metadata": {},
   "outputs": [],
   "source": [
    "max_weight = 4              \n",
    "max_volume = 2 \n",
    "values     = items_iter[0]   \n",
    "state_1    = [i for i in range(max_weight+1)] \n",
    "state_2    = [i for i in range(max_volume+1)]     \n",
    "weights    = items_iter[1]   \n",
    "volumes    = items_iter[2]   "
   ]
  },
  {
   "cell_type": "code",
   "execution_count": 436,
   "metadata": {},
   "outputs": [
    {
     "data": {
      "text/plain": [
       "[2, 3, 3, 4, 4, 5]"
      ]
     },
     "execution_count": 436,
     "metadata": {},
     "output_type": "execute_result"
    }
   ],
   "source": [
    "values"
   ]
  },
  {
   "cell_type": "code",
   "execution_count": 449,
   "metadata": {},
   "outputs": [],
   "source": [
    "knapsack_2 = {}\n",
    "    \n",
    "for i in range(len(values)-2):\n",
    "    empty_list = []\n",
    "    for weight in state_1:\n",
    "        q = [knap_sack(weight,volume,i) for volume in state_2]\n",
    "        empty_list.append(q)\n",
    "    knapsack_2[i] = empty_list"
   ]
  },
  {
   "cell_type": "code",
   "execution_count": 450,
   "metadata": {},
   "outputs": [
    {
     "data": {
      "text/plain": [
       "{0: [[0, 0, 0], [0, 0, 2], [0, 0, 2], [0, 0, 2], [0, 0, 2]],\n",
       " 1: [[0, 0, 0], [0, 0, 2], [0, 3, 3], [0, 3, 3], [0, 3, 3]],\n",
       " 2: [[0, 0, 0], [0, 0, 2], [0, 3, 3], [0, 3, 3], [0, 3, 3]],\n",
       " 3: [[0, 0, 0], [0, 0, 2], [0, 3, 3], [0, 3, 4], [0, 3, 4]]}"
      ]
     },
     "execution_count": 450,
     "metadata": {},
     "output_type": "execute_result"
    }
   ],
   "source": [
    "knapsack_2"
   ]
  },
  {
   "cell_type": "code",
   "execution_count": 451,
   "metadata": {},
   "outputs": [
    {
     "data": {
      "text/plain": [
       "3"
      ]
     },
     "execution_count": 451,
     "metadata": {},
     "output_type": "execute_result"
    }
   ],
   "source": [
    "max(knapsack_2, key=knapsack_2.get)"
   ]
  },
  {
   "cell_type": "code",
   "execution_count": 452,
   "metadata": {},
   "outputs": [
    {
     "data": {
      "text/plain": [
       "(3, 3)"
      ]
     },
     "execution_count": 452,
     "metadata": {},
     "output_type": "execute_result"
    }
   ],
   "source": [
    "temp_2 = knapsack_2[max(knapsack_2, key=knapsack_2.get)]\n",
    "#temp.index(min(temp))\n",
    "index, value = max(enumerate(knapsack_2), key=operator.itemgetter(1)); index, value"
   ]
  },
  {
   "cell_type": "code",
   "execution_count": 454,
   "metadata": {},
   "outputs": [
    {
     "data": {
      "text/plain": [
       "'d'"
      ]
     },
     "execution_count": 454,
     "metadata": {},
     "output_type": "execute_result"
    }
   ],
   "source": [
    "[items for items in d.values()][0][3]"
   ]
  },
  {
   "cell_type": "code",
   "execution_count": null,
   "metadata": {},
   "outputs": [],
   "source": []
  }
 ],
 "metadata": {
  "kernelspec": {
   "display_name": "Python (fast_ai)",
   "language": "python",
   "name": "fast_ai"
  },
  "language_info": {
   "codemirror_mode": {
    "name": "ipython",
    "version": 3
   },
   "file_extension": ".py",
   "mimetype": "text/x-python",
   "name": "python",
   "nbconvert_exporter": "python",
   "pygments_lexer": "ipython3",
   "version": "3.7.3"
  }
 },
 "nbformat": 4,
 "nbformat_minor": 2
}
